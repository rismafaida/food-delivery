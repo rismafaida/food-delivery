{
 "cells": [
  {
   "cell_type": "code",
   "execution_count": 2,
   "id": "3da29753",
   "metadata": {},
   "outputs": [
    {
     "data": {
      "text/html": [
       "<div>\n",
       "<style scoped>\n",
       "    .dataframe tbody tr th:only-of-type {\n",
       "        vertical-align: middle;\n",
       "    }\n",
       "\n",
       "    .dataframe tbody tr th {\n",
       "        vertical-align: top;\n",
       "    }\n",
       "\n",
       "    .dataframe thead th {\n",
       "        text-align: right;\n",
       "    }\n",
       "</style>\n",
       "<table border=\"1\" class=\"dataframe\">\n",
       "  <thead>\n",
       "    <tr style=\"text-align: right;\">\n",
       "      <th></th>\n",
       "      <th>order_id</th>\n",
       "      <th>voucher_amount</th>\n",
       "      <th>date_time</th>\n",
       "      <th>eta_seconds</th>\n",
       "      <th>food_price</th>\n",
       "      <th>cust_id</th>\n",
       "      <th>rating</th>\n",
       "      <th>delivery_fee</th>\n",
       "      <th>resto_id</th>\n",
       "      <th>status</th>\n",
       "      <th>random_id</th>\n",
       "    </tr>\n",
       "  </thead>\n",
       "  <tbody>\n",
       "    <tr>\n",
       "      <th>0</th>\n",
       "      <td>FOOD-10455</td>\n",
       "      <td>0</td>\n",
       "      <td>2018-08-12T20:35:08.001006</td>\n",
       "      <td>1800</td>\n",
       "      <td>18900</td>\n",
       "      <td>1089034</td>\n",
       "      <td>5.0</td>\n",
       "      <td>4000</td>\n",
       "      <td>742638033</td>\n",
       "      <td>Completed</td>\n",
       "      <td>0.511149</td>\n",
       "    </tr>\n",
       "    <tr>\n",
       "      <th>1</th>\n",
       "      <td>FOOD-10985</td>\n",
       "      <td>0</td>\n",
       "      <td>2018-09-23T17:44:12.243273</td>\n",
       "      <td>2173</td>\n",
       "      <td>149000</td>\n",
       "      <td>180146</td>\n",
       "      <td>5.0</td>\n",
       "      <td>11000</td>\n",
       "      <td>742767245</td>\n",
       "      <td>Completed</td>\n",
       "      <td>0.832936</td>\n",
       "    </tr>\n",
       "    <tr>\n",
       "      <th>2</th>\n",
       "      <td>FOOD-10911</td>\n",
       "      <td>0</td>\n",
       "      <td>2018-09-19T18:08:09.387991</td>\n",
       "      <td>1418</td>\n",
       "      <td>43800</td>\n",
       "      <td>366528</td>\n",
       "      <td>NaN</td>\n",
       "      <td>9000</td>\n",
       "      <td>742618303</td>\n",
       "      <td>Completed</td>\n",
       "      <td>0.828026</td>\n",
       "    </tr>\n",
       "    <tr>\n",
       "      <th>3</th>\n",
       "      <td>FOOD-10932</td>\n",
       "      <td>0</td>\n",
       "      <td>2018-09-21T01:24:35.272499</td>\n",
       "      <td>1903</td>\n",
       "      <td>39900</td>\n",
       "      <td>511038</td>\n",
       "      <td>5.0</td>\n",
       "      <td>14000</td>\n",
       "      <td>742541172</td>\n",
       "      <td>Completed</td>\n",
       "      <td>0.239377</td>\n",
       "    </tr>\n",
       "    <tr>\n",
       "      <th>4</th>\n",
       "      <td>FOOD-10961</td>\n",
       "      <td>0</td>\n",
       "      <td>2018-09-22T17:57:45.523161</td>\n",
       "      <td>1716</td>\n",
       "      <td>77700</td>\n",
       "      <td>1220358</td>\n",
       "      <td>NaN</td>\n",
       "      <td>4000</td>\n",
       "      <td>742604875</td>\n",
       "      <td>Completed</td>\n",
       "      <td>0.995587</td>\n",
       "    </tr>\n",
       "  </tbody>\n",
       "</table>\n",
       "</div>"
      ],
      "text/plain": [
       "     order_id  voucher_amount                   date_time  eta_seconds  \\\n",
       "0  FOOD-10455               0  2018-08-12T20:35:08.001006         1800   \n",
       "1  FOOD-10985               0  2018-09-23T17:44:12.243273         2173   \n",
       "2  FOOD-10911               0  2018-09-19T18:08:09.387991         1418   \n",
       "3  FOOD-10932               0  2018-09-21T01:24:35.272499         1903   \n",
       "4  FOOD-10961               0  2018-09-22T17:57:45.523161         1716   \n",
       "\n",
       "   food_price  cust_id  rating  delivery_fee   resto_id     status  random_id  \n",
       "0       18900  1089034     5.0          4000  742638033  Completed   0.511149  \n",
       "1      149000   180146     5.0         11000  742767245  Completed   0.832936  \n",
       "2       43800   366528     NaN          9000  742618303  Completed   0.828026  \n",
       "3       39900   511038     5.0         14000  742541172  Completed   0.239377  \n",
       "4       77700  1220358     NaN          4000  742604875  Completed   0.995587  "
      ]
     },
     "execution_count": 2,
     "metadata": {},
     "output_type": "execute_result"
    }
   ],
   "source": [
    "import pandas as pd\n",
    "file = 'https://raw.githubusercontent.com/alamhanz/pandas_journey/main/mydata/food_delivery_datasets.csv'\n",
    "dataset = pd.read_csv(file, sep=',')\n",
    "dataset.head()"
   ]
  },
  {
   "cell_type": "code",
   "execution_count": 3,
   "id": "ccdf28c1",
   "metadata": {},
   "outputs": [
    {
     "data": {
      "text/plain": [
       "448500"
      ]
     },
     "execution_count": 3,
     "metadata": {},
     "output_type": "execute_result"
    }
   ],
   "source": [
    "#harga makanan termahal\n",
    "dataset['food_price'].max()"
   ]
  },
  {
   "cell_type": "code",
   "execution_count": 4,
   "id": "f52d8792",
   "metadata": {},
   "outputs": [
    {
     "data": {
      "text/plain": [
       "12900"
      ]
     },
     "execution_count": 4,
     "metadata": {},
     "output_type": "execute_result"
    }
   ],
   "source": [
    "#harga makanan termurah\n",
    "dataset['food_price'].min()"
   ]
  },
  {
   "cell_type": "code",
   "execution_count": 5,
   "id": "6c68e3a3",
   "metadata": {},
   "outputs": [
    {
     "data": {
      "text/plain": [
       "9252.788104089219"
      ]
     },
     "execution_count": 5,
     "metadata": {},
     "output_type": "execute_result"
    }
   ],
   "source": [
    "#rata-rata delivery fee yang dikeluarkan tiap customer\n",
    "dataset['delivery_fee'].mean()"
   ]
  },
  {
   "cell_type": "code",
   "execution_count": 6,
   "id": "9a6dc557",
   "metadata": {},
   "outputs": [
    {
     "data": {
      "text/plain": [
       "592"
      ]
     },
     "execution_count": 6,
     "metadata": {},
     "output_type": "execute_result"
    }
   ],
   "source": [
    "#banyak rating diatas 4\n",
    "condition = dataset['rating']>=4\n",
    "dataset['rating'][condition].count()"
   ]
  },
  {
   "cell_type": "code",
   "execution_count": 7,
   "id": "9cf691ff",
   "metadata": {},
   "outputs": [
    {
     "data": {
      "text/plain": [
       "7.797101449275362"
      ]
     },
     "execution_count": 7,
     "metadata": {},
     "output_type": "execute_result"
    }
   ],
   "source": [
    "#rata-rata banyak order\n",
    "dataset['cust_id'].value_counts().mean()"
   ]
  },
  {
   "cell_type": "code",
   "execution_count": 8,
   "id": "8a5e7655",
   "metadata": {},
   "outputs": [
    {
     "data": {
      "text/plain": [
       "742641984    4\n",
       "742676756    4\n",
       "742633392    3\n",
       "742591683    3\n",
       "742606960    3\n",
       "            ..\n",
       "742703942    1\n",
       "742560888    1\n",
       "742541122    1\n",
       "742577516    1\n",
       "742724601    1\n",
       "Name: resto_id, Length: 126, dtype: int64"
      ]
     },
     "execution_count": 8,
     "metadata": {},
     "output_type": "execute_result"
    }
   ],
   "source": [
    "#restoran yang paling sering orderannya menggunakan voucher\n",
    "condition = dataset['voucher_amount']>0\n",
    "dataset['resto_id'][condition].value_counts()"
   ]
  },
  {
   "cell_type": "code",
   "execution_count": 9,
   "id": "160c9a38",
   "metadata": {},
   "outputs": [
    {
     "data": {
      "text/plain": [
       "106000"
      ]
     },
     "execution_count": 9,
     "metadata": {},
     "output_type": "execute_result"
    }
   ],
   "source": [
    "#Berapa jumlah nominal voucher yang digunakan oleh pelanggan yang paling sering pakai voucher?\n",
    "condition = dataset['voucher_amount']>0\n",
    "condition2 = dataset['cust_id'][condition]==316834\n",
    "dataset['voucher_amount'][condition][condition2].sum()"
   ]
  },
  {
   "cell_type": "code",
   "execution_count": 10,
   "id": "46434418",
   "metadata": {},
   "outputs": [
    {
     "data": {
      "text/plain": [
       "742610474    12\n",
       "742591683    12\n",
       "742676756     9\n",
       "742622470     9\n",
       "742731698     9\n",
       "             ..\n",
       "742650617     1\n",
       "742587128     1\n",
       "742685430     1\n",
       "742781678     1\n",
       "742535159     1\n",
       "Name: resto_id, Length: 671, dtype: int64"
      ]
     },
     "execution_count": 10,
     "metadata": {},
     "output_type": "execute_result"
    }
   ],
   "source": [
    "#Rata-rata customer paling sering pesan di restoran apa?\n",
    "dataset['resto_id'].value_counts()"
   ]
  },
  {
   "cell_type": "code",
   "execution_count": 11,
   "id": "03196a9d",
   "metadata": {},
   "outputs": [
    {
     "data": {
      "text/plain": [
       "44000"
      ]
     },
     "execution_count": 11,
     "metadata": {},
     "output_type": "execute_result"
    }
   ],
   "source": [
    "#ongkos kirim termahal\n",
    "dataset['delivery_fee'].max()"
   ]
  },
  {
   "cell_type": "code",
   "execution_count": 13,
   "id": "cdfeb7a3",
   "metadata": {},
   "outputs": [
    {
     "data": {
      "text/plain": [
       "0    4000\n",
       "dtype: int64"
      ]
     },
     "execution_count": 13,
     "metadata": {},
     "output_type": "execute_result"
    }
   ],
   "source": [
    "#modus dari ongkos kirim\n",
    "dataset['delivery_fee'].mode()"
   ]
  },
  {
   "cell_type": "code",
   "execution_count": 6,
   "id": "029cccce",
   "metadata": {},
   "outputs": [
    {
     "data": {
      "text/plain": [
       "9252.788104089219"
      ]
     },
     "execution_count": 6,
     "metadata": {},
     "output_type": "execute_result"
    }
   ],
   "source": [
    "#rata-rata dari ongkos kirim\n",
    "dataset['delivery_fee'].mean()"
   ]
  },
  {
   "cell_type": "code",
   "execution_count": 3,
   "id": "de6b3a16",
   "metadata": {},
   "outputs": [
    {
     "data": {
      "text/html": [
       "<div>\n",
       "<style scoped>\n",
       "    .dataframe tbody tr th:only-of-type {\n",
       "        vertical-align: middle;\n",
       "    }\n",
       "\n",
       "    .dataframe tbody tr th {\n",
       "        vertical-align: top;\n",
       "    }\n",
       "\n",
       "    .dataframe thead th {\n",
       "        text-align: right;\n",
       "    }\n",
       "</style>\n",
       "<table border=\"1\" class=\"dataframe\">\n",
       "  <thead>\n",
       "    <tr style=\"text-align: right;\">\n",
       "      <th></th>\n",
       "      <th>order_id</th>\n",
       "      <th>voucher_amount</th>\n",
       "      <th>date_time</th>\n",
       "      <th>eta_seconds</th>\n",
       "      <th>food_price</th>\n",
       "      <th>cust_id</th>\n",
       "      <th>rating</th>\n",
       "      <th>delivery_fee</th>\n",
       "      <th>resto_id</th>\n",
       "      <th>status</th>\n",
       "      <th>random_id</th>\n",
       "    </tr>\n",
       "  </thead>\n",
       "  <tbody>\n",
       "    <tr>\n",
       "      <th>0</th>\n",
       "      <td>FOOD-10455</td>\n",
       "      <td>0</td>\n",
       "      <td>2018-08-12T20:35:08.001006</td>\n",
       "      <td>1800</td>\n",
       "      <td>18900</td>\n",
       "      <td>1089034</td>\n",
       "      <td>5.0</td>\n",
       "      <td>4000</td>\n",
       "      <td>742638033</td>\n",
       "      <td>Completed</td>\n",
       "      <td>0.511149</td>\n",
       "    </tr>\n",
       "    <tr>\n",
       "      <th>1</th>\n",
       "      <td>FOOD-10985</td>\n",
       "      <td>0</td>\n",
       "      <td>2018-09-23T17:44:12.243273</td>\n",
       "      <td>2173</td>\n",
       "      <td>149000</td>\n",
       "      <td>180146</td>\n",
       "      <td>5.0</td>\n",
       "      <td>11000</td>\n",
       "      <td>742767245</td>\n",
       "      <td>Completed</td>\n",
       "      <td>0.832936</td>\n",
       "    </tr>\n",
       "    <tr>\n",
       "      <th>2</th>\n",
       "      <td>FOOD-10911</td>\n",
       "      <td>0</td>\n",
       "      <td>2018-09-19T18:08:09.387991</td>\n",
       "      <td>1418</td>\n",
       "      <td>43800</td>\n",
       "      <td>366528</td>\n",
       "      <td>NaN</td>\n",
       "      <td>9000</td>\n",
       "      <td>742618303</td>\n",
       "      <td>Completed</td>\n",
       "      <td>0.828026</td>\n",
       "    </tr>\n",
       "    <tr>\n",
       "      <th>3</th>\n",
       "      <td>FOOD-10932</td>\n",
       "      <td>0</td>\n",
       "      <td>2018-09-21T01:24:35.272499</td>\n",
       "      <td>1903</td>\n",
       "      <td>39900</td>\n",
       "      <td>511038</td>\n",
       "      <td>5.0</td>\n",
       "      <td>14000</td>\n",
       "      <td>742541172</td>\n",
       "      <td>Completed</td>\n",
       "      <td>0.239377</td>\n",
       "    </tr>\n",
       "    <tr>\n",
       "      <th>4</th>\n",
       "      <td>FOOD-10961</td>\n",
       "      <td>0</td>\n",
       "      <td>2018-09-22T17:57:45.523161</td>\n",
       "      <td>1716</td>\n",
       "      <td>77700</td>\n",
       "      <td>1220358</td>\n",
       "      <td>NaN</td>\n",
       "      <td>4000</td>\n",
       "      <td>742604875</td>\n",
       "      <td>Completed</td>\n",
       "      <td>0.995587</td>\n",
       "    </tr>\n",
       "  </tbody>\n",
       "</table>\n",
       "</div>"
      ],
      "text/plain": [
       "     order_id  voucher_amount                   date_time  eta_seconds  \\\n",
       "0  FOOD-10455               0  2018-08-12T20:35:08.001006         1800   \n",
       "1  FOOD-10985               0  2018-09-23T17:44:12.243273         2173   \n",
       "2  FOOD-10911               0  2018-09-19T18:08:09.387991         1418   \n",
       "3  FOOD-10932               0  2018-09-21T01:24:35.272499         1903   \n",
       "4  FOOD-10961               0  2018-09-22T17:57:45.523161         1716   \n",
       "\n",
       "   food_price  cust_id  rating  delivery_fee   resto_id     status  random_id  \n",
       "0       18900  1089034     5.0          4000  742638033  Completed   0.511149  \n",
       "1      149000   180146     5.0         11000  742767245  Completed   0.832936  \n",
       "2       43800   366528     NaN          9000  742618303  Completed   0.828026  \n",
       "3       39900   511038     5.0         14000  742541172  Completed   0.239377  \n",
       "4       77700  1220358     NaN          4000  742604875  Completed   0.995587  "
      ]
     },
     "execution_count": 3,
     "metadata": {},
     "output_type": "execute_result"
    }
   ],
   "source": [
    "import pandas as pd\n",
    "file = 'https://raw.githubusercontent.com/alamhanz/pandas_journey/main/mydata/food_delivery_datasets.csv'\n",
    "dataset = pd.read_csv(file, sep=',')\n",
    "dataset.head()"
   ]
  },
  {
   "cell_type": "code",
   "execution_count": 4,
   "id": "32d549fd",
   "metadata": {},
   "outputs": [
    {
     "name": "stdout",
     "output_type": "stream",
     "text": [
      "<class 'pandas.core.frame.DataFrame'>\n",
      "RangeIndex: 1076 entries, 0 to 1075\n",
      "Data columns (total 11 columns):\n",
      " #   Column          Non-Null Count  Dtype  \n",
      "---  ------          --------------  -----  \n",
      " 0   order_id        1076 non-null   object \n",
      " 1   voucher_amount  1076 non-null   int64  \n",
      " 2   date_time       1076 non-null   object \n",
      " 3   eta_seconds     1076 non-null   int64  \n",
      " 4   food_price      1076 non-null   int64  \n",
      " 5   cust_id         1076 non-null   int64  \n",
      " 6   rating          598 non-null    float64\n",
      " 7   delivery_fee    1076 non-null   int64  \n",
      " 8   resto_id        1076 non-null   int64  \n",
      " 9   status          1076 non-null   object \n",
      " 10  random_id       1076 non-null   float64\n",
      "dtypes: float64(2), int64(6), object(3)\n",
      "memory usage: 92.6+ KB\n"
     ]
    }
   ],
   "source": [
    "#mengetahui info dari data\n",
    "dataset.info()"
   ]
  },
  {
   "cell_type": "code",
   "execution_count": 5,
   "id": "f6003fb2",
   "metadata": {},
   "outputs": [
    {
     "data": {
      "text/html": [
       "<div>\n",
       "<style scoped>\n",
       "    .dataframe tbody tr th:only-of-type {\n",
       "        vertical-align: middle;\n",
       "    }\n",
       "\n",
       "    .dataframe tbody tr th {\n",
       "        vertical-align: top;\n",
       "    }\n",
       "\n",
       "    .dataframe thead th {\n",
       "        text-align: right;\n",
       "    }\n",
       "</style>\n",
       "<table border=\"1\" class=\"dataframe\">\n",
       "  <thead>\n",
       "    <tr style=\"text-align: right;\">\n",
       "      <th></th>\n",
       "      <th>voucher_amount</th>\n",
       "      <th>eta_seconds</th>\n",
       "      <th>food_price</th>\n",
       "      <th>cust_id</th>\n",
       "      <th>rating</th>\n",
       "      <th>delivery_fee</th>\n",
       "      <th>resto_id</th>\n",
       "      <th>random_id</th>\n",
       "    </tr>\n",
       "  </thead>\n",
       "  <tbody>\n",
       "    <tr>\n",
       "      <th>count</th>\n",
       "      <td>1076.000000</td>\n",
       "      <td>1076.000000</td>\n",
       "      <td>1076.000000</td>\n",
       "      <td>1.076000e+03</td>\n",
       "      <td>598.000000</td>\n",
       "      <td>1076.000000</td>\n",
       "      <td>1.076000e+03</td>\n",
       "      <td>1076.000000</td>\n",
       "    </tr>\n",
       "    <tr>\n",
       "      <th>mean</th>\n",
       "      <td>1053.903346</td>\n",
       "      <td>1632.289033</td>\n",
       "      <td>78041.821561</td>\n",
       "      <td>8.274251e+05</td>\n",
       "      <td>4.946488</td>\n",
       "      <td>9252.788104</td>\n",
       "      <td>7.275119e+08</td>\n",
       "      <td>0.498824</td>\n",
       "    </tr>\n",
       "    <tr>\n",
       "      <th>std</th>\n",
       "      <td>3127.726510</td>\n",
       "      <td>948.628732</td>\n",
       "      <td>58512.508208</td>\n",
       "      <td>4.380402e+05</td>\n",
       "      <td>0.295946</td>\n",
       "      <td>6723.595497</td>\n",
       "      <td>8.923529e+07</td>\n",
       "      <td>0.288533</td>\n",
       "    </tr>\n",
       "    <tr>\n",
       "      <th>min</th>\n",
       "      <td>0.000000</td>\n",
       "      <td>2.000000</td>\n",
       "      <td>12900.000000</td>\n",
       "      <td>2.289500e+04</td>\n",
       "      <td>1.000000</td>\n",
       "      <td>0.000000</td>\n",
       "      <td>2.000006e+08</td>\n",
       "      <td>0.001616</td>\n",
       "    </tr>\n",
       "    <tr>\n",
       "      <th>25%</th>\n",
       "      <td>0.000000</td>\n",
       "      <td>1074.750000</td>\n",
       "      <td>38200.000000</td>\n",
       "      <td>3.667210e+05</td>\n",
       "      <td>5.000000</td>\n",
       "      <td>4000.000000</td>\n",
       "      <td>7.425411e+08</td>\n",
       "      <td>0.246024</td>\n",
       "    </tr>\n",
       "    <tr>\n",
       "      <th>50%</th>\n",
       "      <td>0.000000</td>\n",
       "      <td>1605.500000</td>\n",
       "      <td>59200.000000</td>\n",
       "      <td>8.547090e+05</td>\n",
       "      <td>5.000000</td>\n",
       "      <td>9000.000000</td>\n",
       "      <td>7.425990e+08</td>\n",
       "      <td>0.490014</td>\n",
       "    </tr>\n",
       "    <tr>\n",
       "      <th>75%</th>\n",
       "      <td>0.000000</td>\n",
       "      <td>2151.000000</td>\n",
       "      <td>101100.000000</td>\n",
       "      <td>1.230166e+06</td>\n",
       "      <td>5.000000</td>\n",
       "      <td>12000.000000</td>\n",
       "      <td>7.426671e+08</td>\n",
       "      <td>0.757871</td>\n",
       "    </tr>\n",
       "    <tr>\n",
       "      <th>max</th>\n",
       "      <td>25000.000000</td>\n",
       "      <td>6082.000000</td>\n",
       "      <td>448500.000000</td>\n",
       "      <td>1.548571e+06</td>\n",
       "      <td>5.000000</td>\n",
       "      <td>44000.000000</td>\n",
       "      <td>7.428147e+08</td>\n",
       "      <td>0.999124</td>\n",
       "    </tr>\n",
       "  </tbody>\n",
       "</table>\n",
       "</div>"
      ],
      "text/plain": [
       "       voucher_amount  eta_seconds     food_price       cust_id      rating  \\\n",
       "count     1076.000000  1076.000000    1076.000000  1.076000e+03  598.000000   \n",
       "mean      1053.903346  1632.289033   78041.821561  8.274251e+05    4.946488   \n",
       "std       3127.726510   948.628732   58512.508208  4.380402e+05    0.295946   \n",
       "min          0.000000     2.000000   12900.000000  2.289500e+04    1.000000   \n",
       "25%          0.000000  1074.750000   38200.000000  3.667210e+05    5.000000   \n",
       "50%          0.000000  1605.500000   59200.000000  8.547090e+05    5.000000   \n",
       "75%          0.000000  2151.000000  101100.000000  1.230166e+06    5.000000   \n",
       "max      25000.000000  6082.000000  448500.000000  1.548571e+06    5.000000   \n",
       "\n",
       "       delivery_fee      resto_id    random_id  \n",
       "count   1076.000000  1.076000e+03  1076.000000  \n",
       "mean    9252.788104  7.275119e+08     0.498824  \n",
       "std     6723.595497  8.923529e+07     0.288533  \n",
       "min        0.000000  2.000006e+08     0.001616  \n",
       "25%     4000.000000  7.425411e+08     0.246024  \n",
       "50%     9000.000000  7.425990e+08     0.490014  \n",
       "75%    12000.000000  7.426671e+08     0.757871  \n",
       "max    44000.000000  7.428147e+08     0.999124  "
      ]
     },
     "execution_count": 5,
     "metadata": {},
     "output_type": "execute_result"
    }
   ],
   "source": [
    "#statistika deskriptif data\n",
    "dataset.describe()"
   ]
  },
  {
   "cell_type": "code",
   "execution_count": null,
   "id": "d6dc6467",
   "metadata": {},
   "outputs": [],
   "source": []
  }
 ],
 "metadata": {
  "kernelspec": {
   "display_name": "Python 3",
   "language": "python",
   "name": "python3"
  },
  "language_info": {
   "codemirror_mode": {
    "name": "ipython",
    "version": 3
   },
   "file_extension": ".py",
   "mimetype": "text/x-python",
   "name": "python",
   "nbconvert_exporter": "python",
   "pygments_lexer": "ipython3",
   "version": "3.8.8"
  }
 },
 "nbformat": 4,
 "nbformat_minor": 5
}
